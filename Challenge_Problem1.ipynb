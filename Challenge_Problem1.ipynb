{
 "cells": [
  {
   "cell_type": "markdown",
   "metadata": {},
   "source": [
    "The plot is reasonable since amplitude zero means no motion and period must be infinity in that case so at very low amplityde period is large."
   ]
  },
  {
   "cell_type": "code",
   "execution_count": 2,
   "metadata": {
    "collapsed": true
   },
   "outputs": [],
   "source": [
    "import scipy.integrate as sci\n",
    "import numpy as np\n",
    "import math\n",
    "from math import sqrt,sin"
   ]
  },
  {
   "cell_type": "code",
   "execution_count": 3,
   "metadata": {},
   "outputs": [
    {
     "name": "stdout",
     "output_type": "stream",
     "text": [
      "(T trapz , T simps , T_romberg) 1.14338665874 1.14224851727 1.14153252987\n"
     ]
    },
    {
     "name": "stderr",
     "output_type": "stream",
     "text": [
      "/Users/MaedeMohadesin/anaconda/lib/python3.5/site-packages/scipy/integrate/quadrature.py:709: AccuracyWarning: divmax (10) exceeded. Latest difference = 3.925605e-08\n",
      "  AccuracyWarning)\n"
     ]
    }
   ],
   "source": [
    "import numpy as np\n",
    "a=3 # amplitude \n",
    "N=100 # number of points\n",
    "x=np.linspace(0,a,N,endpoint=False)\n",
    "f = lambda x:(4/sqrt(2))/sqrt(a**4-x**4) \n",
    "farray=np.vectorize(f)\n",
    "farray=farray(x)\n",
    "\n",
    "T_trapz=sci.trapz(farray,x)\n",
    "T_simps=sci.simps(farray,x)\n",
    "T_romberg=sci.romberg(f,0,a-a/N)\n",
    "\n",
    "print (\"(T trapz , T simps , T_romberg)\", T_trapz,T_simps,T_romberg )\n"
   ]
  },
  {
   "cell_type": "code",
   "execution_count": 4,
   "metadata": {},
   "outputs": [
    {
     "data": {
      "text/plain": [
       "<matplotlib.text.Text at 0x1192029b0>"
      ]
     },
     "execution_count": 4,
     "metadata": {},
     "output_type": "execute_result"
    },
    {
     "data": {
      "image/png": "[encoded data removed]",
      "text/plain": [
       "<matplotlib.figure.Figure at 0x1122c7f28>"
      ]
     },
     "metadata": {},
     "output_type": "display_data"
    }
   ],
   "source": [
    "%matplotlib inline\n",
    "from matplotlib import pyplot\n",
    "\n",
    "N_a=100\n",
    "T=[]\n",
    "a=np.linspace(.1,5,N_a)\n",
    "\n",
    "for i in a:\n",
    "    f = lambda x:(4/sqrt(2))/sqrt(i**4-x**4)\n",
    "    x=np.linspace(0,i,N,endpoint=False)\n",
    "    farray=np.vectorize(f)\n",
    "    farray=farray(x)\n",
    "    T.append(sci.trapz(farray,x)) \n",
    " \n",
    "\n",
    "pyplot.plot(a,T)\n",
    "pyplot.xlabel('Amplitude')\n",
    "pyplot.ylabel('Period')\n"
   ]
  }
 ],
 "metadata": {
  "kernelspec": {
   "display_name": "Python [default]",
   "language": "python",
   "name": "python3"
  },
  "language_info": {
   "codemirror_mode": {
    "name": "ipython",
    "version": 3
   },
   "file_extension": ".py",
   "mimetype": "text/x-python",
   "name": "python",
   "nbconvert_exporter": "python",
   "pygments_lexer": "ipython3",
   "version": "3.5.3"
  }
 },
 "nbformat": 4,
 "nbformat_minor": 2
}
